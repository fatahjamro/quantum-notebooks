{
 "cells": [
  {
   "cell_type": "markdown",
   "metadata": {},
   "source": [
    "# Complex Numbers\n",
    "\n",
    "***"
   ]
  },
  {
   "cell_type": "code",
   "execution_count": 1,
   "metadata": {},
   "outputs": [],
   "source": [
    "import numpy as np"
   ]
  },
  {
   "cell_type": "code",
   "execution_count": 2,
   "metadata": {},
   "outputs": [
    {
     "data": {
      "text/plain": [
       "(1+3j)"
      ]
     },
     "execution_count": 2,
     "metadata": {},
     "output_type": "execute_result"
    }
   ],
   "source": [
    "1 + 3j"
   ]
  },
  {
   "cell_type": "code",
   "execution_count": 3,
   "metadata": {},
   "outputs": [
    {
     "data": {
      "text/plain": [
       "(1+3j)"
      ]
     },
     "execution_count": 3,
     "metadata": {},
     "output_type": "execute_result"
    }
   ],
   "source": [
    "complex(1, 3)"
   ]
  },
  {
   "cell_type": "code",
   "execution_count": 4,
   "metadata": {},
   "outputs": [
    {
     "data": {
      "text/plain": [
       "(1-3j)"
      ]
     },
     "execution_count": 4,
     "metadata": {},
     "output_type": "execute_result"
    }
   ],
   "source": [
    "a = 1 - 3j\n",
    "a"
   ]
  },
  {
   "cell_type": "code",
   "execution_count": 5,
   "metadata": {},
   "outputs": [
    {
     "data": {
      "text/plain": [
       "(2+4j)"
      ]
     },
     "execution_count": 5,
     "metadata": {},
     "output_type": "execute_result"
    }
   ],
   "source": [
    "b = 2 + 4j\n",
    "b"
   ]
  },
  {
   "cell_type": "code",
   "execution_count": 6,
   "metadata": {},
   "outputs": [
    {
     "data": {
      "text/plain": [
       "(3+1j)"
      ]
     },
     "execution_count": 6,
     "metadata": {},
     "output_type": "execute_result"
    }
   ],
   "source": [
    "a + b"
   ]
  },
  {
   "cell_type": "code",
   "execution_count": 7,
   "metadata": {},
   "outputs": [
    {
     "data": {
      "text/plain": [
       "(14-2j)"
      ]
     },
     "execution_count": 7,
     "metadata": {},
     "output_type": "execute_result"
    }
   ],
   "source": [
    "a * b"
   ]
  },
  {
   "cell_type": "markdown",
   "metadata": {},
   "source": [
    "## Matrix Representation\n",
    "\n",
    "The complex numbers $\\mathbb{C}$ can be represented as matrices over the real numbers $\\mathbb{R}$.\n",
    "\n",
    "$\n",
    "a + bi \\longleftrightarrow\n",
    "\\begin{bmatrix}\n",
    "a & -b \\\\\n",
    "b & a \\\\\n",
    "\\end{bmatrix}\n",
    "$\n",
    "\n",
    "##### Addition\n",
    "\n",
    "$(a_0 + b_0 i) + (a_1 + b_1 i) = (a_0 + a_1) + (b_0 + b_1) i$\n",
    "\n",
    "$\\begin{bmatrix}\n",
    "a_0 & -b_0 \\\\\n",
    "b_0 &  a_0 \\\\\n",
    "\\end{bmatrix} + \n",
    "\\begin{bmatrix}\n",
    "a_1 & -b_1 \\\\\n",
    "b_1 &  a_1 \\\\\n",
    "\\end{bmatrix} = \n",
    "\\begin{bmatrix}\n",
    "(a_0 + a_1) & -(b_0 + b_1) \\\\\n",
    "(b_0 + b_1) &  (a_0 + a_1) \\\\\n",
    "\\end{bmatrix}\n",
    "$\n",
    "\n",
    "##### Multiplication\n",
    "\n",
    "$(a_0 + b_0 i) \\times (a_1 + b_1 i) = (a_0 a_1 - b_0 b_1) + (a_0 b_1 + b_0 a_1) i$\n",
    "\n",
    "$\\begin{bmatrix}\n",
    "a_0 & -b_0 \\\\\n",
    "b_0 &  a_0 \\\\\n",
    "\\end{bmatrix}\n",
    "\\begin{bmatrix}\n",
    "a_1 & -b_1 \\\\\n",
    "b_1 &  a_1 \\\\\n",
    "\\end{bmatrix} = \n",
    "\\begin{bmatrix}\n",
    "(a_0 a_1 - b_0 b_1) & -(a_0 b_1 + b_0 a_1) \\\\\n",
    "(a_0 b_1 + b_0 a_1) & (a_0 a_1 - b_0 b_1) \\\\\n",
    "\\end{bmatrix}\n",
    "$"
   ]
  },
  {
   "cell_type": "code",
   "execution_count": 8,
   "metadata": {},
   "outputs": [
    {
     "data": {
      "text/plain": [
       "array([[ 1,  3],\n",
       "       [-3,  1]])"
      ]
     },
     "execution_count": 8,
     "metadata": {},
     "output_type": "execute_result"
    }
   ],
   "source": [
    "A = np.array([[1, 3], [-3, 1]])\n",
    "A"
   ]
  },
  {
   "cell_type": "code",
   "execution_count": 9,
   "metadata": {},
   "outputs": [
    {
     "data": {
      "text/plain": [
       "array([[ 2, -4],\n",
       "       [ 4,  2]])"
      ]
     },
     "execution_count": 9,
     "metadata": {},
     "output_type": "execute_result"
    }
   ],
   "source": [
    "B = np.array([[2, -4], [4, 2]])\n",
    "B"
   ]
  },
  {
   "cell_type": "code",
   "execution_count": 10,
   "metadata": {},
   "outputs": [
    {
     "data": {
      "text/plain": [
       "array([[14,  2],\n",
       "       [-2, 14]])"
      ]
     },
     "execution_count": 10,
     "metadata": {},
     "output_type": "execute_result"
    }
   ],
   "source": [
    "A @ B"
   ]
  },
  {
   "cell_type": "markdown",
   "metadata": {},
   "source": [
    "## Other Operations\n",
    "\n",
    "##### Conjugate as Transpose\n",
    "\n",
    "$c = a + bi$\n",
    "\n",
    "$\\begin{bmatrix} a & -b \\\\ b & a \\end{bmatrix}$\n",
    "\n",
    "$\\begin{bmatrix} a & -b \\\\ b & a \\end{bmatrix}^T = \\begin{bmatrix} a & b \\\\ -b & a \\end{bmatrix}$\n",
    "\n",
    "$c^* = a - bi$\n",
    "\n",
    "$\\begin{bmatrix} a & b \\\\ -b & a \\end{bmatrix}$"
   ]
  },
  {
   "cell_type": "markdown",
   "metadata": {},
   "source": [
    "##### Absolute Value\n",
    "\n",
    "$c = a + bi$\n",
    "\n",
    "$c^* = a - bi$\n",
    "\n",
    "$cc^* = (a + bi) (a - bi) = a^2 + b^2$\n",
    "\n",
    "$|cc^*| = \\sqrt{a^2 + b^2}$\n",
    "\n",
    "$\\begin{bmatrix} a & -b \\\\ b & a \\end{bmatrix}\\begin{bmatrix} a & b \\\\ -b & a \\end{bmatrix} = \\begin{bmatrix} a^2 + b^2 & 0 \\\\ 0 & a^2 + b^2 \\end{bmatrix} = a^2 + b^2 \\begin{bmatrix} 1 & 0 \\\\ 0 & 1 \\end{bmatrix}$\n",
    "\n",
    "$\\left|\\begin{bmatrix} a & -b \\\\ b & a \\end{bmatrix}\\right| = \\sqrt{a^2 + b^2} \\begin{bmatrix} 1 & 0 \\\\ 0 & 1 \\end{bmatrix}$"
   ]
  },
  {
   "cell_type": "markdown",
   "metadata": {},
   "source": [
    "***\n",
    "\n",
    "#### End"
   ]
  }
 ],
 "metadata": {
  "kernelspec": {
   "display_name": "base",
   "language": "python",
   "name": "python3"
  },
  "language_info": {
   "codemirror_mode": {
    "name": "ipython",
    "version": 3
   },
   "file_extension": ".py",
   "mimetype": "text/x-python",
   "name": "python",
   "nbconvert_exporter": "python",
   "pygments_lexer": "ipython3",
   "version": "3.11.7"
  }
 },
 "nbformat": 4,
 "nbformat_minor": 2
}
