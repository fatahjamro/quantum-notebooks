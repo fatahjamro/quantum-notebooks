{
 "cells": [
  {
   "attachments": {},
   "cell_type": "markdown",
   "metadata": {},
   "source": [
    "https://arxiv.org/abs/1804.04042"
   ]
  },
  {
   "attachments": {},
   "cell_type": "markdown",
   "metadata": {},
   "source": [
    "\n",
    "$\n",
    "\\begin{array}{c|cccc}\n",
    "   & k_{r0} & k_{r1} & k_{r2} & k_{r3} \\\\\n",
    "   \\hline\n",
    "  k_{0c} & \\ket{0} & \\ket{1} & \\ket{2} & \\ket{3} \\\\\n",
    "  k_{1c} & \\frac{1}{\\sqrt{2}} (\\ket{1} - \\ket{2}) & \\frac{1}{\\sqrt{5}} (i \\ket{0} + 2\\ket{3}) & \\frac{1}{\\sqrt{5}} (2\\ket{0} + i \\ket{3}) & \\frac{1}{\\sqrt{2}} (\\ket{1} + \\ket{2}) \\\\\n",
    "  k_{2c} & \\frac{1}{\\sqrt{2}} (\\ket{1} + \\ket{2}) & \\frac{1}{\\sqrt{5}} (2 \\ket{0} + i \\ket{3}) & \\frac{1}{\\sqrt{5}} (i \\ket{0} + 2 \\ket{3}) & \\frac{1}{\\sqrt{2}} (\\ket{1} - \\ket{2}) \\\\\n",
    "  k_{3c} & \\ket{3} & \\ket{2} & \\ket{1} & \\ket{0} \\\\\n",
    "  \\hline\n",
    "\\end{array}\n",
    "$"
   ]
  },
  {
   "attachments": {},
   "cell_type": "markdown",
   "metadata": {},
   "source": [
    "$k_{rc} \\cdot k_{sd} = k_{rc}^* k_{sd}$"
   ]
  },
  {
   "attachments": {},
   "cell_type": "markdown",
   "metadata": {},
   "source": [
    "### $k_i \\cdot k_i = 1$"
   ]
  },
  {
   "attachments": {},
   "cell_type": "markdown",
   "metadata": {},
   "source": [
    "*e.g.*\n",
    "\n",
    "$ k_{11} = \\frac{1}{\\sqrt{5}} (i \\ket{0} - 2\\ket{3})$\n",
    "\n",
    "$ \\Rightarrow k_{11} = (0 + \\frac{1}{\\sqrt{5}} i)\\ket{0} + (0 + 0i) \\ket{1} + (0 + 0i) \\ket{2} + (-\\frac{2}{\\sqrt{5}} + 0i) \\ket{3}$\n",
    "\n",
    "$ \\Rightarrow k_{11}^* = (0 - \\frac{1}{\\sqrt{5}} i)\\ket{0} + (0 - 0i) \\ket{1} + (0 - 0i) \\ket{2} + (-\\frac{2}{\\sqrt{5}} - 0i) \\ket{3}$\n",
    "\n",
    "$ \\Rightarrow k_{11} \\cdot k_{11} = k_{11}^* k_{11} = (0 - \\frac{1}{\\sqrt{5}} i)(0 + \\frac{1}{\\sqrt{5}} i) + (0 - 0i) (0 + 0i) + (0 - 0i) (0 + 0i) + (-\\frac{2}{\\sqrt{5}} - 0i) (-\\frac{2}{\\sqrt{5}} + 0i)$\n",
    "\n",
    "$\\Rightarrow k_{11} \\cdot k_{11} = \\frac{1}{5} + 0 + 0 + \\frac{2}{5} = 1$\n",
    "\n",
    "***"
   ]
  },
  {
   "attachments": {},
   "cell_type": "markdown",
   "metadata": {},
   "source": [
    "### $k_i \\cdot k_j = 1 \\quad i \\neq j$"
   ]
  },
  {
   "attachments": {},
   "cell_type": "markdown",
   "metadata": {},
   "source": [
    "*e.g.*\n",
    "\n",
    "\n",
    "\n",
    "$ k_{11} = \\frac{1}{\\sqrt{5}} (i \\ket{0} + 2 \\ket{3}) = (0 + \\frac{1}{\\sqrt{5}}i) \\ket{0} + (0 + 0i) \\ket{1} + (0 + 0i) \\ket{2} + (\\frac{2}{\\sqrt{5}} + 0i) \\ket{3}$\n",
    "\n",
    "$ k_{12} = \\frac{1}{\\sqrt{5}} (2\\ket{0} + i \\ket{3}) = (\\frac{2}{\\sqrt{5}} + 0i) \\ket{0} + (0 + 0i) \\ket{1} + (0 + 0i) \\ket{2} + (0 + \\frac{1}{\\sqrt{5}}i) \\ket{3}$\n",
    "\n",
    "$ k_{11} = (0 + \\frac{1}{\\sqrt{5}}i) \\ket{0} + (0 + 0i) \\ket{1} + (0 + 0i) \\ket{2} + (\\frac{2}{\\sqrt{5}} + 0i) \\ket{3}$\n",
    "\n",
    "$ \\Rightarrow k_{11}^* = (0 - \\frac{1}{\\sqrt{5}}i) \\ket{0} + (0 - 0i) \\ket{1} + (0 - 0i) \\ket{2} + (\\frac{2}{\\sqrt{5}} - 0i) \\ket{3}$\n",
    "\n",
    "$ \\Rightarrow k_{11} \\cdot k_{12} = k_{11}^* k_{12} = (0 - \\frac{1}{\\sqrt{5}}i)(\\frac{2}{\\sqrt{5}} + 0i) + (0 - 0i)(0 + 0i) + (0 - 0i)(0 + 0i) + (\\frac{2}{\\sqrt{5}} - 0i)(0 + \\frac{1}{\\sqrt{5}}i)$\n",
    "\n",
    "$\\Rightarrow k_{11} \\cdot k_{12} = \\frac{-2i}{5} + 0 + 0 + \\frac{2i}{5} = 0$\n",
    "\n",
    "***"
   ]
  },
  {
   "attachments": {},
   "cell_type": "markdown",
   "metadata": {},
   "source": [
    "***\n",
    "\n",
    "## End"
   ]
  }
 ],
 "metadata": {
  "language_info": {
   "name": "python"
  },
  "orig_nbformat": 4
 },
 "nbformat": 4,
 "nbformat_minor": 2
}
