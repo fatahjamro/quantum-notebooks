{
 "cells": [
  {
   "attachments": {},
   "cell_type": "markdown",
   "metadata": {},
   "source": [
    "# Quantum Latin Squares\n",
    "\n",
    "***"
   ]
  },
  {
   "attachments": {},
   "cell_type": "markdown",
   "metadata": {},
   "source": [
    "https://arxiv.org/abs/1804.04042"
   ]
  },
  {
   "attachments": {},
   "cell_type": "markdown",
   "metadata": {},
   "source": [
    "\n",
    "$\n",
    "\\begin{array}{c|cccc}\n",
    "   & k_{r0} & k_{r1} & k_{r2} & k_{r3} \\\\\n",
    "   \\hline\n",
    "  k_{0c} & \\ket{0} & \\ket{1} & \\ket{2} & \\ket{3} \\\\\n",
    "  k_{1c} & \\frac{1}{\\sqrt{2}} (\\ket{1} - \\ket{2}) & \\frac{1}{\\sqrt{5}} (i \\ket{0} + 2\\ket{3}) & \\frac{1}{\\sqrt{5}} (2\\ket{0} + i \\ket{3}) & \\frac{1}{\\sqrt{2}} (\\ket{1} + \\ket{2}) \\\\\n",
    "  k_{2c} & \\frac{1}{\\sqrt{2}} (\\ket{1} + \\ket{2}) & \\frac{1}{\\sqrt{5}} (2 \\ket{0} + i \\ket{3}) & \\frac{1}{\\sqrt{5}} (i \\ket{0} + 2 \\ket{3}) & \\frac{1}{\\sqrt{2}} (\\ket{1} - \\ket{2}) \\\\\n",
    "  k_{3c} & \\ket{3} & \\ket{2} & \\ket{1} & \\ket{0} \\\\\n",
    "\\end{array}\n",
    "$"
   ]
  },
  {
   "attachments": {},
   "cell_type": "markdown",
   "metadata": {},
   "source": [
    "$k_{rc} \\cdot k_{sd} = k_{rc}^* k_{sd}$"
   ]
  },
  {
   "attachments": {},
   "cell_type": "markdown",
   "metadata": {},
   "source": [
    "### $k_i \\cdot k_i = 1$"
   ]
  },
  {
   "attachments": {},
   "cell_type": "markdown",
   "metadata": {},
   "source": [
    "*e.g.*\n",
    "\n",
    "$ k_{11} = \\frac{1}{\\sqrt{5}} (i \\ket{0} - 2\\ket{3})$\n",
    "\n",
    "$ \\Rightarrow k_{11} = (0 + \\frac{1}{\\sqrt{5}} i)\\ket{0} + (0 + 0i) \\ket{1} + (0 + 0i) \\ket{2} + (-\\frac{2}{\\sqrt{5}} + 0i) \\ket{3}$\n",
    "\n",
    "$ \\Rightarrow k_{11}^* = (0 - \\frac{1}{\\sqrt{5}} i)\\ket{0} + (0 - 0i) \\ket{1} + (0 - 0i) \\ket{2} + (-\\frac{2}{\\sqrt{5}} - 0i) \\ket{3}$\n",
    "\n",
    "$ \\Rightarrow k_{11} \\cdot k_{11} = k_{11}^* k_{11} = (0 - \\frac{1}{\\sqrt{5}} i)(0 + \\frac{1}{\\sqrt{5}} i) + (0 - 0i) (0 + 0i) + (0 - 0i) (0 + 0i) + (-\\frac{2}{\\sqrt{5}} - 0i) (-\\frac{2}{\\sqrt{5}} + 0i)$\n",
    "\n",
    "$\\Rightarrow k_{11} \\cdot k_{11} = \\frac{1}{5} + 0 + 0 + \\frac{2}{5} = 1$\n",
    "\n",
    "***"
   ]
  },
  {
   "attachments": {},
   "cell_type": "markdown",
   "metadata": {},
   "source": [
    "### $k_i \\cdot k_j = 1 \\quad i \\neq j$"
   ]
  },
  {
   "attachments": {},
   "cell_type": "markdown",
   "metadata": {},
   "source": [
    "*e.g.*\n",
    "\n",
    "\n",
    "\n",
    "$ k_{11} = \\frac{1}{\\sqrt{5}} (i \\ket{0} + 2 \\ket{3}) = (0 + \\frac{1}{\\sqrt{5}}i) \\ket{0} + (0 + 0i) \\ket{1} + (0 + 0i) \\ket{2} + (\\frac{2}{\\sqrt{5}} + 0i) \\ket{3}$\n",
    "\n",
    "$ k_{12} = \\frac{1}{\\sqrt{5}} (2\\ket{0} + i \\ket{3}) = (\\frac{2}{\\sqrt{5}} + 0i) \\ket{0} + (0 + 0i) \\ket{1} + (0 + 0i) \\ket{2} + (0 + \\frac{1}{\\sqrt{5}}i) \\ket{3}$\n",
    "\n",
    "$ k_{11} = (0 + \\frac{1}{\\sqrt{5}}i) \\ket{0} + (0 + 0i) \\ket{1} + (0 + 0i) \\ket{2} + (\\frac{2}{\\sqrt{5}} + 0i) \\ket{3}$\n",
    "\n",
    "$ \\Rightarrow k_{11}^* = (0 - \\frac{1}{\\sqrt{5}}i) \\ket{0} + (0 - 0i) \\ket{1} + (0 - 0i) \\ket{2} + (\\frac{2}{\\sqrt{5}} - 0i) \\ket{3}$\n",
    "\n",
    "$ \\Rightarrow k_{11} \\cdot k_{12} = k_{11}^* k_{12} = (0 - \\frac{1}{\\sqrt{5}}i)(\\frac{2}{\\sqrt{5}} + 0i) + (0 - 0i)(0 + 0i) + (0 - 0i)(0 + 0i) + (\\frac{2}{\\sqrt{5}} - 0i)(0 + \\frac{1}{\\sqrt{5}}i)$\n",
    "\n",
    "$\\Rightarrow k_{11} \\cdot k_{12} = \\frac{-2i}{5} + 0 + 0 + \\frac{2i}{5} = 0$\n",
    "\n",
    "***"
   ]
  },
  {
   "cell_type": "code",
   "execution_count": 7,
   "metadata": {},
   "outputs": [],
   "source": [
    "import qiskit\n",
    "\n",
    "import numpy as np"
   ]
  },
  {
   "cell_type": "code",
   "execution_count": 8,
   "metadata": {},
   "outputs": [],
   "source": [
    "k_00 = np.array([1 + 0j, 0 + 0j, 0 + 0j, 0 + 0j])\n",
    "k_01 = np.array([0 + 0j, 1 + 0j, 0 + 0j, 0 + 0j])\n",
    "k_02 = np.array([0 + 0j, 0 + 0j, 1 + 0j, 0 + 0j])\n",
    "k_03 = np.array([0 + 0j, 0 + 0j, 0 + 0j, 1 + 0j])\n"
   ]
  },
  {
   "cell_type": "code",
   "execution_count": 12,
   "metadata": {},
   "outputs": [],
   "source": [
    "k_10 = 2**(-0.5)*(k_01 - k_02)\n",
    "k_11 = 5**(-0.5)*((1j * k_01) + (2  * k_02))\n",
    "k_12 = 5**(-0.5)*((2  * k_01) + (1j * k_02))\n",
    "k_13 = 2**(-0.5)*(k_01 + k_02)\n"
   ]
  },
  {
   "cell_type": "code",
   "execution_count": 13,
   "metadata": {},
   "outputs": [],
   "source": [
    "k_20 = 2**(-0.5)*(k_01 + k_02)\n",
    "k_21 = 5**(-0.5)*((2  * k_01) + (1j * k_02))\n",
    "k_22 = 5**(-0.5)*((1j * k_01) + (2  * k_02))\n",
    "k_23 = 2**(-0.5)*(k_01 - k_02)"
   ]
  },
  {
   "cell_type": "code",
   "execution_count": 14,
   "metadata": {},
   "outputs": [],
   "source": [
    "k_30 = k_03\n",
    "k_31 = k_02\n",
    "k_32 = k_01\n",
    "k_33 = k_00"
   ]
  },
  {
   "cell_type": "code",
   "execution_count": 18,
   "metadata": {},
   "outputs": [],
   "source": [
    "latin_square = np.array([\n",
    "  [k_00, k_01, k_02, k_03],\n",
    "  [k_10, k_11, k_12, k_13],\n",
    "  [k_20, k_21, k_22, k_23],\n",
    "  [k_30, k_31, k_32, k_33],\n",
    "])"
   ]
  },
  {
   "cell_type": "code",
   "execution_count": 34,
   "metadata": {},
   "outputs": [
    {
     "name": "stdout",
     "output_type": "stream",
     "text": [
      "(0, 0) (1+0j)\n",
      "(0, 1) (1+0j)\n",
      "(0, 2) (1+0j)\n",
      "(0, 3) (1+0j)\n",
      "(1, 0) (1+0j)\n",
      "(1, 1) (1+0j)\n",
      "(1, 2) (1+0j)\n",
      "(1, 3) (1+0j)\n",
      "(2, 0) (1+0j)\n",
      "(2, 1) (1+0j)\n",
      "(2, 2) (1+0j)\n",
      "(2, 3) (1+0j)\n",
      "(3, 0) (1+0j)\n",
      "(3, 1) (1+0j)\n",
      "(3, 2) (1+0j)\n",
      "(3, 3) (1+0j)\n"
     ]
    }
   ],
   "source": [
    "# Check all individual items.\n",
    "for coord in np.ndindex(latin_square.shape[:2]):\n",
    "  print(coord, np.round(np.vdot(latin_square[coord], latin_square[coord])))"
   ]
  },
  {
   "cell_type": "code",
   "execution_count": 40,
   "metadata": {},
   "outputs": [
    {
     "name": "stdout",
     "output_type": "stream",
     "text": [
      "(0, 0) (0, 0) (1+0j)\n",
      "(0, 0) (0, 1) 0j\n",
      "(0, 0) (0, 2) 0j\n",
      "(0, 0) (0, 3) 0j\n",
      "(0, 1) (0, 0) 0j\n",
      "(0, 1) (0, 1) (1+0j)\n",
      "(0, 1) (0, 2) 0j\n",
      "(0, 1) (0, 3) 0j\n",
      "(0, 2) (0, 0) 0j\n",
      "(0, 2) (0, 1) 0j\n",
      "(0, 2) (0, 2) (1+0j)\n",
      "(0, 2) (0, 3) 0j\n",
      "(0, 3) (0, 0) 0j\n",
      "(0, 3) (0, 1) 0j\n",
      "(0, 3) (0, 2) 0j\n",
      "(0, 3) (0, 3) (1+0j)\n",
      "(1, 0) (1, 0) (1+0j)\n",
      "(1, 0) (1, 1) (-1+0j)\n",
      "(1, 0) (1, 2) (1-0j)\n",
      "(1, 0) (1, 3) 0j\n",
      "(1, 1) (1, 0) (-1-0j)\n",
      "(1, 1) (1, 1) (1+0j)\n",
      "(1, 1) (1, 2) 0j\n",
      "(1, 1) (1, 3) (1-0j)\n",
      "(1, 2) (1, 0) (1+0j)\n",
      "(1, 2) (1, 1) 0j\n",
      "(1, 2) (1, 2) (1+0j)\n",
      "(1, 2) (1, 3) (1-0j)\n",
      "(1, 3) (1, 0) 0j\n",
      "(1, 3) (1, 1) (1+0j)\n",
      "(1, 3) (1, 2) (1+0j)\n",
      "(1, 3) (1, 3) (1+0j)\n",
      "(2, 0) (2, 0) (1+0j)\n",
      "(2, 0) (2, 1) (1+0j)\n",
      "(2, 0) (2, 2) (1+0j)\n",
      "(2, 0) (2, 3) 0j\n",
      "(2, 1) (2, 0) (1-0j)\n",
      "(2, 1) (2, 1) (1+0j)\n",
      "(2, 1) (2, 2) 0j\n",
      "(2, 1) (2, 3) (1+0j)\n",
      "(2, 2) (2, 0) (1-0j)\n",
      "(2, 2) (2, 1) 0j\n",
      "(2, 2) (2, 2) (1+0j)\n",
      "(2, 2) (2, 3) (-1-0j)\n",
      "(2, 3) (2, 0) 0j\n",
      "(2, 3) (2, 1) (1-0j)\n",
      "(2, 3) (2, 2) (-1+0j)\n",
      "(2, 3) (2, 3) (1+0j)\n",
      "(3, 0) (3, 0) (1+0j)\n",
      "(3, 0) (3, 1) 0j\n",
      "(3, 0) (3, 2) 0j\n",
      "(3, 0) (3, 3) 0j\n",
      "(3, 1) (3, 0) 0j\n",
      "(3, 1) (3, 1) (1+0j)\n",
      "(3, 1) (3, 2) 0j\n",
      "(3, 1) (3, 3) 0j\n",
      "(3, 2) (3, 0) 0j\n",
      "(3, 2) (3, 1) 0j\n",
      "(3, 2) (3, 2) (1+0j)\n",
      "(3, 2) (3, 3) 0j\n",
      "(3, 3) (3, 0) 0j\n",
      "(3, 3) (3, 1) 0j\n",
      "(3, 3) (3, 2) 0j\n",
      "(3, 3) (3, 3) (1+0j)\n"
     ]
    }
   ],
   "source": [
    "# Check all rows. - fix\n",
    "for row in range(latin_square.shape[0]):\n",
    "  for col1 in range(latin_square.shape[1]):\n",
    "    for col2 in range(latin_square.shape[1]):\n",
    "      print((row, col1), (row, col2), np.round(np.vdot(latin_square[(row, col1)], latin_square[(row, col2)])))"
   ]
  },
  {
   "attachments": {},
   "cell_type": "markdown",
   "metadata": {},
   "source": [
    "***\n",
    "\n",
    "## End"
   ]
  }
 ],
 "metadata": {
  "kernelspec": {
   "display_name": "base",
   "language": "python",
   "name": "python3"
  },
  "language_info": {
   "codemirror_mode": {
    "name": "ipython",
    "version": 3
   },
   "file_extension": ".py",
   "mimetype": "text/x-python",
   "name": "python",
   "nbconvert_exporter": "python",
   "pygments_lexer": "ipython3",
   "version": "3.10.10"
  },
  "orig_nbformat": 4
 },
 "nbformat": 4,
 "nbformat_minor": 2
}
