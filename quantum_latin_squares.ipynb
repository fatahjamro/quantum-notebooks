{
  "nbformat": 4,
  "nbformat_minor": 0,
  "metadata": {
    "colab": {
      "provenance": [],
      "authorship_tag": "ABX9TyPdFyNNjss9uFioChIn8Qqx",
      "include_colab_link": true
    },
    "kernelspec": {
      "name": "python3",
      "display_name": "Python 3"
    },
    "language_info": {
      "name": "python"
    }
  },
  "cells": [
    {
      "cell_type": "markdown",
      "metadata": {
        "id": "view-in-github",
        "colab_type": "text"
      },
      "source": [
        "<a href=\"https://colab.research.google.com/github/ianmcloughlin/quantum-notebooks/blob/main/quantum_latin_squares.ipynb\" target=\"_parent\"><img src=\"https://colab.research.google.com/assets/colab-badge.svg\" alt=\"Open In Colab\"/></a>"
      ]
    },
    {
      "cell_type": "markdown",
      "source": [
        "# Quantum Latin Squares\n",
        "\n",
        "***"
      ],
      "metadata": {
        "id": "fAYJvI1rK-Zb"
      }
    },
    {
      "cell_type": "code",
      "execution_count": null,
      "metadata": {
        "id": "JpmGyiW_K1Yl"
      },
      "outputs": [],
      "source": [
        "# Numerical arrays.\n",
        "import numpy as np"
      ]
    },
    {
      "cell_type": "markdown",
      "source": [
        "## Latin Squares\n",
        "***\n",
        "\n",
        "A latin square of order $n$ is an $n \\times n$ array over a set $S$ of order $n$ such that each element of $S$ appears exactly once in each row and in each column."
      ],
      "metadata": {
        "id": "bK_J92sbLG96"
      }
    },
    {
      "cell_type": "code",
      "source": [
        "# A 3x3 Latin square over {1,2,3}.\n",
        "ls_a = np.array([\n",
        "  [1,2,3],\n",
        "  [2,3,1],\n",
        "  [3,1,2],\n",
        "], dtype=int)\n",
        "\n",
        "# Show.\n",
        "print(ls_a)"
      ],
      "metadata": {
        "colab": {
          "base_uri": "https://localhost:8080/"
        },
        "id": "3M8fEtUYLG4h",
        "outputId": "a5ded60e-5e0f-4176-8819-bb45b3253217"
      },
      "execution_count": null,
      "outputs": [
        {
          "output_type": "stream",
          "name": "stdout",
          "text": [
            "[[1 2 3]\n",
            " [2 3 1]\n",
            " [3 1 2]]\n"
          ]
        }
      ]
    },
    {
      "cell_type": "code",
      "source": [
        "\n",
        "# Another 3x3 Latin square over {1,2,3}.\n",
        "ls_b = np.array([\n",
        "  [1,3,2],\n",
        "  [2,1,3],\n",
        "  [3,2,1],\n",
        "], dtype=int)\n",
        "\n",
        "# Show.\n",
        "print(ls_b)"
      ],
      "metadata": {
        "colab": {
          "base_uri": "https://localhost:8080/"
        },
        "id": "svF19jldOLed",
        "outputId": "8492e540-616b-4ab7-9ceb-6469ff78f8cf"
      },
      "execution_count": null,
      "outputs": [
        {
          "output_type": "stream",
          "name": "stdout",
          "text": [
            "[[1 3 2]\n",
            " [2 1 3]\n",
            " [3 2 1]]\n"
          ]
        }
      ]
    },
    {
      "cell_type": "markdown",
      "source": [
        "## Mutually Orthogonal Latin Squares\n",
        "\n",
        "***\n",
        "\n",
        "Suppose $LS_1$ is Latin square of order $n$ over a set $S$ with entry $s_{ij}$ in row $i$ and column $j$.\n",
        "\n",
        "Suppose that $LS_2$ is also a Latin square of order $n$ over a set $T$ with entry $t_{ij}$ in row $i$ and column $j$.\n",
        "\n",
        "We say $LS_1$ and $LS_2$ are *mutually orthogonal* when all pairs $(s_{ij}, t_{ij})$ are distinct.\n",
        "\n",
        "It must be, then, that the set $(s_{ij}, t_{ij})$ is equal to $S \\times T$."
      ],
      "metadata": {
        "id": "uI3dRRA3LGwD"
      }
    },
    {
      "cell_type": "code",
      "source": [
        "# ls_a and ls_b are orthogonal.\n",
        "lso = (10 * ls_a) + ls_b\n",
        "\n",
        "# Show.\n",
        "print(lso)"
      ],
      "metadata": {
        "colab": {
          "base_uri": "https://localhost:8080/"
        },
        "id": "J4gx9OthLGNI",
        "outputId": "5ed92c98-9c4a-4b43-f9fa-c57c6218d941"
      },
      "execution_count": null,
      "outputs": [
        {
          "output_type": "stream",
          "name": "stdout",
          "text": [
            "[[11 23 32]\n",
            " [22 31 13]\n",
            " [33 12 21]]\n"
          ]
        }
      ]
    },
    {
      "cell_type": "code",
      "source": [
        "# All elements {(1,1), (1, 2), ..., (3,3)}.\n",
        "els = np.sort(lso.flatten())\n",
        "\n",
        "# Show.\n",
        "print(els)"
      ],
      "metadata": {
        "colab": {
          "base_uri": "https://localhost:8080/"
        },
        "id": "Ij0vUXKwK53f",
        "outputId": "3982c0e5-a628-42b4-a4c1-8bec3db4c18f"
      },
      "execution_count": null,
      "outputs": [
        {
          "output_type": "stream",
          "name": "stdout",
          "text": [
            "[11 12 13 21 22 23 31 32 33]\n"
          ]
        }
      ]
    },
    {
      "cell_type": "code",
      "source": [
        "# Unique.\n",
        "np.unique(els, return_counts=True)"
      ],
      "metadata": {
        "colab": {
          "base_uri": "https://localhost:8080/"
        },
        "id": "kX9zTU5fPIsM",
        "outputId": "57839f31-998d-498b-81f2-16d52a1fb53d"
      },
      "execution_count": null,
      "outputs": [
        {
          "output_type": "execute_result",
          "data": {
            "text/plain": [
              "(array([11, 12, 13, 21, 22, 23, 31, 32, 33]),\n",
              " array([1, 1, 1, 1, 1, 1, 1, 1, 1]))"
            ]
          },
          "metadata": {},
          "execution_count": 6
        }
      ]
    },
    {
      "cell_type": "markdown",
      "source": [
        "## Quantum States\n",
        "\n",
        "***\n",
        "\n",
        "https://learning.quantum.ibm.com/course/basics-of-quantum-information/quantum-circuits#inner-products-orthonormality-and-projections\n",
        "\n",
        "$\\mathbb{C}$\n",
        "\n",
        "$\\vert y \\rangle = \\begin{bmatrix} y_0 & y_1 & \\ldots & y_n \\end{bmatrix}$\n",
        "\n",
        "$\\langle x \\vert = \\begin{bmatrix} \\bar{x_0} \\\\ \\bar{x_1} \\\\ \\vdots \\\\ \\bar{x_n} \\end{bmatrix}$\n",
        "\n",
        "$\\langle x \\vert y \\rangle = \\bar{x_0}y_0 + \\bar{x_1}y_1 + \\ldots + \\bar{x_n}y_n$"
      ],
      "metadata": {
        "id": "fklcAb0ClMrn"
      }
    },
    {
      "cell_type": "markdown",
      "source": [
        "## Quantum Latin Squares\n",
        "\n",
        "***\n",
        "\n",
        "A quantum Latin squre of order $n$ is an $n \\times n$ array of elements of $\\mathbb{C}^n$ such that for each row and each column, the elements form an orthonormal basis for $\\mathbb{C}^n$."
      ],
      "metadata": {
        "id": "Q_W_NkDtP3Gv"
      }
    },
    {
      "cell_type": "code",
      "source": [
        "# Normalized element of C^4.\n",
        "x1 = np.array([\n",
        "    complex(0.0, 1.0 / np.sqrt(5.0)),\n",
        "    complex(0.0, 0.0),\n",
        "    complex(0.0, 0.0),\n",
        "    complex(2.0 / np.sqrt(5.0), 0.0),\n",
        "])"
      ],
      "metadata": {
        "id": "QIv0cV2UP3Cp"
      },
      "execution_count": null,
      "outputs": []
    },
    {
      "cell_type": "code",
      "source": [
        "# Show vector.\n",
        "print([f\"{i:.2f}\" for i in x1])"
      ],
      "metadata": {
        "colab": {
          "base_uri": "https://localhost:8080/"
        },
        "id": "Qs50FilUhupd",
        "outputId": "52e30223-a975-49dc-ca9c-4f2acfc8f5f8"
      },
      "execution_count": null,
      "outputs": [
        {
          "output_type": "stream",
          "name": "stdout",
          "text": [
            "['0.00+0.45j', '0.00+0.00j', '0.00+0.00j', '0.89+0.00j']\n"
          ]
        }
      ]
    },
    {
      "cell_type": "code",
      "source": [
        "# Show it's normalized.\n",
        "norm_x1 = x1.conjugate().transpose() @ x1\n",
        "\n",
        "# Show normalisation.\n",
        "print(f\"{norm_x1:.2f}\")"
      ],
      "metadata": {
        "colab": {
          "base_uri": "https://localhost:8080/"
        },
        "id": "h7Yj_GENe-Ig",
        "outputId": "360c5198-3918-4170-e385-54c906becd8e"
      },
      "execution_count": null,
      "outputs": [
        {
          "output_type": "stream",
          "name": "stdout",
          "text": [
            "1.00+0.00j\n"
          ]
        }
      ]
    },
    {
      "cell_type": "code",
      "source": [
        "# Another normalised element of C^4.\n",
        "x2 = np.array([\n",
        "    complex(2.0 / np.sqrt(5.0), 0.0),\n",
        "    complex(0.0, 0.0),\n",
        "    complex(0.0, 0.0),\n",
        "    complex(0.0, 1.0 / np.sqrt(5.0)),\n",
        "])"
      ],
      "metadata": {
        "id": "p-PizxymP10o"
      },
      "execution_count": null,
      "outputs": []
    },
    {
      "cell_type": "code",
      "source": [
        "# Show vector.\n",
        "print([f\"{i:.2f}\" for i in x2])"
      ],
      "metadata": {
        "colab": {
          "base_uri": "https://localhost:8080/"
        },
        "id": "wja2Q1Gadp3Z",
        "outputId": "9f145c9c-33ca-4fb0-88db-d7f5eb2089c9"
      },
      "execution_count": null,
      "outputs": [
        {
          "output_type": "stream",
          "name": "stdout",
          "text": [
            "['0.89+0.00j', '0.00+0.00j', '0.00+0.00j', '0.00+0.45j']\n"
          ]
        }
      ]
    },
    {
      "cell_type": "code",
      "source": [
        "# Show it's normalized.\n",
        "norm_x2 = x2.conjugate().transpose() @ x2\n",
        "\n",
        "# Show normalisation.\n",
        "print(f\"{norm_x2:.2f}\")"
      ],
      "metadata": {
        "colab": {
          "base_uri": "https://localhost:8080/"
        },
        "id": "F4wscbnMcUZu",
        "outputId": "816920df-9799-402a-b96f-d87ddf62cf04"
      },
      "execution_count": null,
      "outputs": [
        {
          "output_type": "stream",
          "name": "stdout",
          "text": [
            "1.00+0.00j\n"
          ]
        }
      ]
    },
    {
      "cell_type": "code",
      "source": [
        "# Show |x1> and |x2> again.\n",
        "print([f\"{i:.2f}\" for i in x1])\n",
        "print([f\"{i:.2f}\" for i in x2])"
      ],
      "metadata": {
        "colab": {
          "base_uri": "https://localhost:8080/"
        },
        "id": "LAeCdhZMjjOa",
        "outputId": "b05fb14d-b5d1-4dc4-af89-9c36445fac2d"
      },
      "execution_count": null,
      "outputs": [
        {
          "output_type": "stream",
          "name": "stdout",
          "text": [
            "['0.00+0.45j', '0.00+0.00j', '0.00+0.00j', '0.89+0.00j']\n",
            "['0.89+0.00j', '0.00+0.00j', '0.00+0.00j', '0.00+0.45j']\n"
          ]
        }
      ]
    },
    {
      "cell_type": "code",
      "source": [
        "# <x2|\n",
        "print([f\"{i:.2f}\" for i in x2.conjugate()])"
      ],
      "metadata": {
        "colab": {
          "base_uri": "https://localhost:8080/"
        },
        "id": "61ah8x1mj_bl",
        "outputId": "867f28f6-1b1f-4810-bb3d-e60d795361d1"
      },
      "execution_count": null,
      "outputs": [
        {
          "output_type": "stream",
          "name": "stdout",
          "text": [
            "['0.89-0.00j', '0.00-0.00j', '0.00-0.00j', '0.00-0.45j']\n"
          ]
        }
      ]
    },
    {
      "cell_type": "code",
      "source": [
        "# <x2|x1>\n",
        "x2x1 = x2.conjugate().transpose() @ x1"
      ],
      "metadata": {
        "id": "REjsEpLvcYmz"
      },
      "execution_count": null,
      "outputs": []
    },
    {
      "cell_type": "code",
      "source": [
        "# Show orthogonality.\n",
        "print(f\"{x2x1:.2f}\")"
      ],
      "metadata": {
        "colab": {
          "base_uri": "https://localhost:8080/"
        },
        "id": "6DRxX4xIib-s",
        "outputId": "45f2dd66-d6e9-46eb-c624-602fe542eba5"
      },
      "execution_count": null,
      "outputs": [
        {
          "output_type": "stream",
          "name": "stdout",
          "text": [
            "0.00+0.00j\n"
          ]
        }
      ]
    },
    {
      "cell_type": "markdown",
      "source": [
        "***\n",
        "\n",
        "### End"
      ],
      "metadata": {
        "id": "ADOYjZ1DPcD7"
      }
    }
  ]
}