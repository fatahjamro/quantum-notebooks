{
  "nbformat": 4,
  "nbformat_minor": 0,
  "metadata": {
    "colab": {
      "provenance": [],
      "include_colab_link": true
    },
    "kernelspec": {
      "name": "python3",
      "display_name": "Python 3"
    },
    "language_info": {
      "name": "python"
    }
  },
  "cells": [
    {
      "cell_type": "markdown",
      "metadata": {
        "id": "view-in-github",
        "colab_type": "text"
      },
      "source": [
        "<a href=\"https://colab.research.google.com/github/ianmcloughlin/quantum-notebooks/blob/main/quantum_latin_squares.ipynb\" target=\"_parent\"><img src=\"https://colab.research.google.com/assets/colab-badge.svg\" alt=\"Open In Colab\"/></a>"
      ]
    },
    {
      "cell_type": "markdown",
      "source": [
        "# Quantum Latin Squares\n",
        "\n",
        "***"
      ],
      "metadata": {
        "id": "fAYJvI1rK-Zb"
      }
    },
    {
      "cell_type": "code",
      "execution_count": 1,
      "metadata": {
        "id": "JpmGyiW_K1Yl"
      },
      "outputs": [],
      "source": [
        "# Numerical arrays.\n",
        "import numpy as np"
      ]
    },
    {
      "cell_type": "markdown",
      "source": [
        "## Latin Squares\n",
        "***\n",
        "\n",
        "A latin square of order $n$ is an $n \\times n$ array over a set $S$ of order $n$ such that each element of $S$ appears exactly once in each row and in each column."
      ],
      "metadata": {
        "id": "bK_J92sbLG96"
      }
    },
    {
      "cell_type": "code",
      "source": [
        "# A 3x3 Latin square over {1,2,3}.\n",
        "ls_a = np.array([\n",
        "  [1,2,3],\n",
        "  [2,3,1],\n",
        "  [3,1,2],\n",
        "], dtype=int)\n",
        "\n",
        "# Show.\n",
        "print(ls_a)"
      ],
      "metadata": {
        "colab": {
          "base_uri": "https://localhost:8080/"
        },
        "id": "3M8fEtUYLG4h",
        "outputId": "52d2ed37-bfc3-4395-f691-a8a9f9f1dfdb"
      },
      "execution_count": 2,
      "outputs": [
        {
          "output_type": "stream",
          "name": "stdout",
          "text": [
            "[[1 2 3]\n",
            " [2 3 1]\n",
            " [3 1 2]]\n"
          ]
        }
      ]
    },
    {
      "cell_type": "code",
      "source": [
        "\n",
        "# Another 3x3 Latin square over {1,2,3}.\n",
        "ls_b = np.array([\n",
        "  [1,3,2],\n",
        "  [2,1,3],\n",
        "  [3,2,1],\n",
        "], dtype=int)\n",
        "\n",
        "# Show.\n",
        "print(ls_b)"
      ],
      "metadata": {
        "colab": {
          "base_uri": "https://localhost:8080/"
        },
        "id": "svF19jldOLed",
        "outputId": "20aaf921-5f0f-4c15-9639-008d751ddc44"
      },
      "execution_count": 3,
      "outputs": [
        {
          "output_type": "stream",
          "name": "stdout",
          "text": [
            "[[1 3 2]\n",
            " [2 1 3]\n",
            " [3 2 1]]\n"
          ]
        }
      ]
    },
    {
      "cell_type": "markdown",
      "source": [
        "## Mutually Orthogonal Latin Squares\n",
        "\n",
        "***\n",
        "\n",
        "Suppose $LS_1$ is Latin square of order $n$ over a set $S$ with entry $s_{ij}$ in row $i$ and column $j$.\n",
        "\n",
        "Suppose that $LS_2$ is also a Latin square of order $n$ over a set $T$ with entry $t_{ij}$ in row $i$ and column $j$.\n",
        "\n",
        "We say $LS_1$ and $LS_2$ are *mutually orthogonal* when all pairs $(s_{ij}, t_{ij})$ are distinct.\n",
        "\n",
        "It must be, then, that the set $(s_{ij}, t_{ij})$ is equal to $S \\times T$."
      ],
      "metadata": {
        "id": "uI3dRRA3LGwD"
      }
    },
    {
      "cell_type": "code",
      "source": [
        "# ls_a and ls_b are orthogonal.\n",
        "lso = (10 * ls_a) + ls_b\n",
        "\n",
        "# Show.\n",
        "print(lso)"
      ],
      "metadata": {
        "colab": {
          "base_uri": "https://localhost:8080/"
        },
        "id": "J4gx9OthLGNI",
        "outputId": "cd918792-998e-4f91-d97a-c4fbc32fb1bc"
      },
      "execution_count": 4,
      "outputs": [
        {
          "output_type": "stream",
          "name": "stdout",
          "text": [
            "[[11 23 32]\n",
            " [22 31 13]\n",
            " [33 12 21]]\n"
          ]
        }
      ]
    },
    {
      "cell_type": "code",
      "source": [
        "# All elements {(1,1), (1, 2), ..., (3,3)}.\n",
        "els = np.sort(lso.flatten())\n",
        "\n",
        "# Show.\n",
        "print(els)"
      ],
      "metadata": {
        "colab": {
          "base_uri": "https://localhost:8080/"
        },
        "id": "Ij0vUXKwK53f",
        "outputId": "eeb26126-f570-4a1c-c886-8e87a952779a"
      },
      "execution_count": 5,
      "outputs": [
        {
          "output_type": "stream",
          "name": "stdout",
          "text": [
            "[11 12 13 21 22 23 31 32 33]\n"
          ]
        }
      ]
    },
    {
      "cell_type": "code",
      "source": [
        "# Unique.\n",
        "np.unique(els, return_counts=True)"
      ],
      "metadata": {
        "colab": {
          "base_uri": "https://localhost:8080/"
        },
        "id": "kX9zTU5fPIsM",
        "outputId": "8cd13893-d4de-4898-8a20-45bc39d10fbe"
      },
      "execution_count": 6,
      "outputs": [
        {
          "output_type": "execute_result",
          "data": {
            "text/plain": [
              "(array([11, 12, 13, 21, 22, 23, 31, 32, 33]),\n",
              " array([1, 1, 1, 1, 1, 1, 1, 1, 1]))"
            ]
          },
          "metadata": {},
          "execution_count": 6
        }
      ]
    },
    {
      "cell_type": "markdown",
      "source": [
        "## Quantum States\n",
        "\n",
        "***\n",
        "\n",
        "https://learning.quantum.ibm.com/course/basics-of-quantum-information/quantum-circuits#inner-products-orthonormality-and-projections\n",
        "\n",
        "$\\mathbb{C}$\n",
        "\n",
        "$\\vert y \\rangle = \\begin{bmatrix} y_0 & y_1 & \\ldots & y_n \\end{bmatrix}$\n",
        "\n",
        "$\\langle x \\vert = \\begin{bmatrix} \\bar{x_0} \\\\ \\bar{x_1} \\\\ \\vdots \\\\ \\bar{x_n} \\end{bmatrix}$\n",
        "\n",
        "$\\langle x \\vert y \\rangle = \\bar{x_0}y_0 + \\bar{x_1}y_1 + \\ldots + \\bar{x_n}y_n$"
      ],
      "metadata": {
        "id": "fklcAb0ClMrn"
      }
    },
    {
      "cell_type": "markdown",
      "source": [
        "## Quantum Latin Squares\n",
        "\n",
        "***\n",
        "\n",
        "https://www.cs.ox.ac.uk/qpl2015/preproceedings/55.pdf\n",
        "\n",
        "A quantum Latin squre of order $n$ is an $n \\times n$ array of elements of $\\mathbb{C}^n$ such that for each row and each column, the elements form an orthonormal basis for $\\mathbb{C}^n$."
      ],
      "metadata": {
        "id": "Q_W_NkDtP3Gv"
      }
    },
    {
      "cell_type": "code",
      "source": [
        "# Normalized element of C^4.\n",
        "# 1/sqrt(5)i |0> + 2/sqrt(5)|3>\n",
        "# 1/sqrt(5)i |0> + 0.0 |1> + 0.0 |2> + 2/sqrt(5)|3>\n",
        "x1 = np.array([\n",
        "    complex(0.0, 1.0 / np.sqrt(5.0)),\n",
        "    complex(0.0, 0.0),\n",
        "    complex(0.0, 0.0),\n",
        "    complex(2.0 / np.sqrt(5.0), 0.0),\n",
        "])"
      ],
      "metadata": {
        "id": "QIv0cV2UP3Cp"
      },
      "execution_count": 7,
      "outputs": []
    },
    {
      "cell_type": "code",
      "source": [
        "# Show vector.\n",
        "print([f\"{i:.2f}\" for i in x1])"
      ],
      "metadata": {
        "colab": {
          "base_uri": "https://localhost:8080/"
        },
        "id": "Qs50FilUhupd",
        "outputId": "78b60181-e2b9-4fa1-f07c-b07d4025e7c9"
      },
      "execution_count": 8,
      "outputs": [
        {
          "output_type": "stream",
          "name": "stdout",
          "text": [
            "['0.00+0.45j', '0.00+0.00j', '0.00+0.00j', '0.89+0.00j']\n"
          ]
        }
      ]
    },
    {
      "cell_type": "code",
      "source": [
        "# Bra from ket.\n",
        "bra_x1 = x1.conjugate().transpose()\n",
        "\n",
        "# Show bra.\n",
        "print([[f\"{i:.2f}\"] for i in bra_x1])"
      ],
      "metadata": {
        "id": "yZQS2F5fXpQi",
        "outputId": "44ed3778-458b-4df8-f44d-8fdd6a99f24e",
        "colab": {
          "base_uri": "https://localhost:8080/"
        }
      },
      "execution_count": 9,
      "outputs": [
        {
          "output_type": "stream",
          "name": "stdout",
          "text": [
            "[['0.00-0.45j'], ['0.00-0.00j'], ['0.00-0.00j'], ['0.89-0.00j']]\n"
          ]
        }
      ]
    },
    {
      "cell_type": "code",
      "source": [
        "# Show it's normalized.\n",
        "norm_x1 = x1.conjugate().transpose() @ x1\n",
        "\n",
        "# Show normalisation.\n",
        "print(f\"{norm_x1:.2f}\")"
      ],
      "metadata": {
        "colab": {
          "base_uri": "https://localhost:8080/"
        },
        "id": "h7Yj_GENe-Ig",
        "outputId": "293a48ca-4a44-45e6-9a81-ba061c10fe0d"
      },
      "execution_count": 10,
      "outputs": [
        {
          "output_type": "stream",
          "name": "stdout",
          "text": [
            "1.00+0.00j\n"
          ]
        }
      ]
    },
    {
      "cell_type": "code",
      "source": [
        "# Another normalised element of C^4.\n",
        "x2 = np.array([\n",
        "    complex(2.0 / np.sqrt(5.0), 0.0),\n",
        "    complex(0.0, 0.0),\n",
        "    complex(0.0, 0.0),\n",
        "    complex(0.0, 1.0 / np.sqrt(5.0)),\n",
        "])"
      ],
      "metadata": {
        "id": "p-PizxymP10o"
      },
      "execution_count": 11,
      "outputs": []
    },
    {
      "cell_type": "code",
      "source": [
        "# Show vector.\n",
        "print([f\"{i:.2f}\" for i in x2])"
      ],
      "metadata": {
        "colab": {
          "base_uri": "https://localhost:8080/"
        },
        "id": "wja2Q1Gadp3Z",
        "outputId": "1d6f9222-a193-4407-95e0-07387870be0b"
      },
      "execution_count": 12,
      "outputs": [
        {
          "output_type": "stream",
          "name": "stdout",
          "text": [
            "['0.89+0.00j', '0.00+0.00j', '0.00+0.00j', '0.00+0.45j']\n"
          ]
        }
      ]
    },
    {
      "cell_type": "code",
      "source": [
        "# Show it's normalized.\n",
        "norm_x2 = x2.conjugate().transpose() @ x2\n",
        "\n",
        "# Show normalisation.\n",
        "print(f\"{norm_x2:.2f}\")"
      ],
      "metadata": {
        "colab": {
          "base_uri": "https://localhost:8080/"
        },
        "id": "F4wscbnMcUZu",
        "outputId": "d00817b6-92ee-478d-adca-6b9ff5e138e2"
      },
      "execution_count": 13,
      "outputs": [
        {
          "output_type": "stream",
          "name": "stdout",
          "text": [
            "1.00+0.00j\n"
          ]
        }
      ]
    },
    {
      "cell_type": "code",
      "source": [
        "# Show |x1> and |x2> again.\n",
        "print([f\"{i:.2f}\" for i in x1])\n",
        "print([f\"{i:.2f}\" for i in x2])"
      ],
      "metadata": {
        "colab": {
          "base_uri": "https://localhost:8080/"
        },
        "id": "LAeCdhZMjjOa",
        "outputId": "1ba18644-7a93-4363-8be6-b3e680cbb9c6"
      },
      "execution_count": 14,
      "outputs": [
        {
          "output_type": "stream",
          "name": "stdout",
          "text": [
            "['0.00+0.45j', '0.00+0.00j', '0.00+0.00j', '0.89+0.00j']\n",
            "['0.89+0.00j', '0.00+0.00j', '0.00+0.00j', '0.00+0.45j']\n"
          ]
        }
      ]
    },
    {
      "cell_type": "code",
      "source": [
        "# <x2|\n",
        "print([f\"{i:.2f}\" for i in x2.conjugate()])"
      ],
      "metadata": {
        "colab": {
          "base_uri": "https://localhost:8080/"
        },
        "id": "61ah8x1mj_bl",
        "outputId": "97ee2d51-3877-4cb2-f5e9-ef0cd9f6f754"
      },
      "execution_count": 15,
      "outputs": [
        {
          "output_type": "stream",
          "name": "stdout",
          "text": [
            "['0.89-0.00j', '0.00-0.00j', '0.00-0.00j', '0.00-0.45j']\n"
          ]
        }
      ]
    },
    {
      "cell_type": "code",
      "source": [
        "# <x2|x1>\n",
        "x2x1 = x2.conjugate().transpose() @ x1"
      ],
      "metadata": {
        "id": "REjsEpLvcYmz"
      },
      "execution_count": 16,
      "outputs": []
    },
    {
      "cell_type": "code",
      "source": [
        "# Show orthogonality.\n",
        "print(f\"{x2x1:.2f}\")"
      ],
      "metadata": {
        "colab": {
          "base_uri": "https://localhost:8080/"
        },
        "id": "6DRxX4xIib-s",
        "outputId": "98e048e8-3b89-4914-f269-65db67871339"
      },
      "execution_count": 17,
      "outputs": [
        {
          "output_type": "stream",
          "name": "stdout",
          "text": [
            "0.00+0.00j\n"
          ]
        }
      ]
    },
    {
      "cell_type": "markdown",
      "source": [
        "***\n",
        "\n",
        "### End"
      ],
      "metadata": {
        "id": "ADOYjZ1DPcD7"
      }
    }
  ]
}