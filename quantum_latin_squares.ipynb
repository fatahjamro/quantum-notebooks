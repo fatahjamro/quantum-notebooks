{
  "cells": [
    {
      "cell_type": "markdown",
      "metadata": {
        "colab_type": "text",
        "id": "view-in-github"
      },
      "source": [
        "<a href=\"https://colab.research.google.com/github/ianmcloughlin/quantum-notebooks/blob/main/quantum_latin_squares.ipynb\" target=\"_parent\"><img src=\"https://colab.research.google.com/assets/colab-badge.svg\" alt=\"Open In Colab\"/></a>"
      ]
    },
    {
      "cell_type": "markdown",
      "metadata": {
        "id": "fAYJvI1rK-Zb"
      },
      "source": [
        "# Quantum Latin Squares\n",
        "\n",
        "***"
      ]
    },
    {
      "cell_type": "code",
      "execution_count": 1,
      "metadata": {
        "id": "JpmGyiW_K1Yl"
      },
      "outputs": [],
      "source": [
        "# Numerical arrays.\n",
        "import numpy as np"
      ]
    },
    {
      "cell_type": "code",
      "execution_count": 2,
      "metadata": {},
      "outputs": [],
      "source": [
        "# Print options.\n",
        "np.set_printoptions(formatter={'complex_kind': '{:.2f}'.format, 'float': '{:.2f}'.format})"
      ]
    },
    {
      "cell_type": "code",
      "execution_count": 3,
      "metadata": {},
      "outputs": [
        {
          "data": {
            "text/plain": [
              "'{:.2f}'"
            ]
          },
          "execution_count": 3,
          "metadata": {},
          "output_type": "execute_result"
        }
      ],
      "source": [
        "'{:.2f}'"
      ]
    },
    {
      "cell_type": "markdown",
      "metadata": {
        "id": "bK_J92sbLG96"
      },
      "source": [
        "## Latin Squares\n",
        "***\n",
        "\n",
        "A latin square of order $n$ is an $n \\times n$ array over a set $S$ of order $n$ such that each element of $S$ appears exactly once in each row and in each column."
      ]
    },
    {
      "cell_type": "code",
      "execution_count": 4,
      "metadata": {
        "colab": {
          "base_uri": "https://localhost:8080/"
        },
        "id": "3M8fEtUYLG4h",
        "outputId": "52d2ed37-bfc3-4395-f691-a8a9f9f1dfdb"
      },
      "outputs": [
        {
          "name": "stdout",
          "output_type": "stream",
          "text": [
            "[[1 2 3]\n",
            " [2 3 1]\n",
            " [3 1 2]]\n"
          ]
        }
      ],
      "source": [
        "# A 3x3 Latin square over {1,2,3}.\n",
        "ls_a = np.array([\n",
        "  [1,2,3],\n",
        "  [2,3,1],\n",
        "  [3,1,2],\n",
        "], dtype=int)\n",
        "\n",
        "# Show.\n",
        "print(ls_a)"
      ]
    },
    {
      "cell_type": "code",
      "execution_count": 5,
      "metadata": {
        "colab": {
          "base_uri": "https://localhost:8080/"
        },
        "id": "svF19jldOLed",
        "outputId": "20aaf921-5f0f-4c15-9639-008d751ddc44"
      },
      "outputs": [
        {
          "name": "stdout",
          "output_type": "stream",
          "text": [
            "[[1 3 2]\n",
            " [2 1 3]\n",
            " [3 2 1]]\n"
          ]
        }
      ],
      "source": [
        "\n",
        "# Another 3x3 Latin square over {1,2,3}.\n",
        "ls_b = np.array([\n",
        "  [1,3,2],\n",
        "  [2,1,3],\n",
        "  [3,2,1],\n",
        "], dtype=int)\n",
        "\n",
        "#show\n",
        "print(ls_b)"
      ]
    },
    {
      "cell_type": "markdown",
      "metadata": {
        "id": "uI3dRRA3LGwD"
      },
      "source": [
        "## Mutually Orthogonal Latin Squares\n",
        "\n",
        "***\n",
        "\n",
        "Suppose $LS_1$ is Latin square of order $n$ over a set $S$ with entry $s_{ij}$ in row $i$ and column $j$.\n",
        "\n",
        "Suppose that $LS_2$ is also a Latin square of order $n$ over a set $T$ with entry $t_{ij}$ in row $i$ and column $j$.\n",
        "\n",
        "We say $LS_1$ and $LS_2$ are *mutually orthogonal* when all pairs $(s_{ij}, t_{ij})$ are distinct.\n",
        "\n",
        "It must be, then, that the set $(s_{ij}, t_{ij})$ is equal to $S \\times T$."
      ]
    },
    {
      "cell_type": "code",
      "execution_count": 6,
      "metadata": {},
      "outputs": [
        {
          "name": "stdout",
          "output_type": "stream",
          "text": [
            "[[1 2 3]\n",
            " [2 3 1]\n",
            " [3 1 2]]\n",
            "\n",
            "[[1 3 2]\n",
            " [2 1 3]\n",
            " [3 2 1]]\n"
          ]
        }
      ],
      "source": [
        "print(ls_a)\n",
        "print()\n",
        "print(ls_b)"
      ]
    },
    {
      "cell_type": "code",
      "execution_count": 7,
      "metadata": {},
      "outputs": [
        {
          "data": {
            "text/plain": [
              "array([[[1, 1],\n",
              "        [2, 3],\n",
              "        [3, 2]],\n",
              "\n",
              "       [[2, 2],\n",
              "        [3, 1],\n",
              "        [1, 3]],\n",
              "\n",
              "       [[3, 3],\n",
              "        [1, 2],\n",
              "        [2, 1]]])"
            ]
          },
          "execution_count": 7,
          "metadata": {},
          "output_type": "execute_result"
        }
      ],
      "source": [
        "# Not so easy to see.\n",
        "np.stack([ls_a, ls_b], axis=2)"
      ]
    },
    {
      "cell_type": "code",
      "execution_count": 8,
      "metadata": {
        "colab": {
          "base_uri": "https://localhost:8080/"
        },
        "id": "J4gx9OthLGNI",
        "outputId": "cd918792-998e-4f91-d97a-c4fbc32fb1bc"
      },
      "outputs": [
        {
          "name": "stdout",
          "output_type": "stream",
          "text": [
            "[[11 23 32]\n",
            " [22 31 13]\n",
            " [33 12 21]]\n"
          ]
        }
      ],
      "source": [
        "# Use a trick.\n",
        "lso = (10 * ls_a) + ls_b\n",
        "\n",
        "# Show.\n",
        "print(lso)"
      ]
    },
    {
      "cell_type": "code",
      "execution_count": 9,
      "metadata": {
        "colab": {
          "base_uri": "https://localhost:8080/"
        },
        "id": "Ij0vUXKwK53f",
        "outputId": "eeb26126-f570-4a1c-c886-8e87a952779a"
      },
      "outputs": [
        {
          "name": "stdout",
          "output_type": "stream",
          "text": [
            "[11 12 13 21 22 23 31 32 33]\n"
          ]
        }
      ],
      "source": [
        "# All elements {(1,1), (1, 2), ..., (3,3)}.\n",
        "els = np.sort(lso.flatten())\n",
        "\n",
        "# Show.\n",
        "print(els)"
      ]
    },
    {
      "cell_type": "code",
      "execution_count": 10,
      "metadata": {
        "colab": {
          "base_uri": "https://localhost:8080/"
        },
        "id": "kX9zTU5fPIsM",
        "outputId": "8cd13893-d4de-4898-8a20-45bc39d10fbe"
      },
      "outputs": [
        {
          "data": {
            "text/plain": [
              "(array([11, 12, 13, 21, 22, 23, 31, 32, 33]),\n",
              " array([1, 1, 1, 1, 1, 1, 1, 1, 1]))"
            ]
          },
          "execution_count": 10,
          "metadata": {},
          "output_type": "execute_result"
        }
      ],
      "source": [
        "# Unique.\n",
        "np.unique(els, return_counts=True)"
      ]
    },
    {
      "cell_type": "markdown",
      "metadata": {
        "id": "fklcAb0ClMrn"
      },
      "source": [
        "## Quantum States\n",
        "\n",
        "***\n",
        "\n",
        "https://learning.quantum.ibm.com/course/basics-of-quantum-information/quantum-circuits#inner-products-orthonormality-and-projections\n",
        "\n",
        "$\\mathbb{C} = {a + bi \\mid a, b \\in \\mathbb{R}}$\n",
        "\n",
        "$c^* = a - bi$ where $c = a + bi$\n",
        "\n",
        "$\\vert x \\rangle = \\begin{bmatrix} x_0 & x_1 & \\ldots & x_{n-1} \\end{bmatrix}$\n",
        "\n",
        "$\\vert y \\rangle = \\begin{bmatrix} y_0 & y_1 & \\ldots & y_{n-1} \\end{bmatrix}$\n",
        "\n",
        "$\\langle x \\vert = \\begin{bmatrix} x_0^* \\\\ x_1^* \\\\ \\vdots \\\\ x_{n-1}^* \\end{bmatrix}$\n",
        "\n",
        "$\\langle x \\vert y \\rangle = x_0^*y_0 + x_1^*y_1 + \\ldots + x_{n-1}^*y_{n-1}$"
      ]
    },
    {
      "cell_type": "markdown",
      "metadata": {
        "id": "Q_W_NkDtP3Gv"
      },
      "source": [
        "## Quantum Latin Squares\n",
        "\n",
        "***\n",
        "\n",
        "https://www.cs.ox.ac.uk/qpl2015/preproceedings/55.pdf\n",
        "\n",
        "A quantum Latin squre of order $n$ is an $n \\times n$ array of elements of $\\mathbb{C}^n$ such that for each row and each column, the elements form an orthonormal basis for $\\mathbb{C}^n$."
      ]
    },
    {
      "cell_type": "code",
      "execution_count": 11,
      "metadata": {
        "id": "QIv0cV2UP3Cp"
      },
      "outputs": [],
      "source": [
        "# Normalized element of C^4.\n",
        "# 1/sqrt(5)i |0> + 2/sqrt(5)|3>\n",
        "# 1/sqrt(5)i |0> + 0.0 |1> + 0.0 |2> + 2/sqrt(5)|3>\n",
        "x1 = np.array([\n",
        "    complex(0.0             , 1.0/np.sqrt(5.0)),\n",
        "    complex(0.0             , 0.0             ),\n",
        "    complex(0.0             , 0.0             ),\n",
        "    complex(2.0/np.sqrt(5.0), 0.0             ),\n",
        "], dtype=complex)"
      ]
    },
    {
      "cell_type": "code",
      "execution_count": 12,
      "metadata": {
        "colab": {
          "base_uri": "https://localhost:8080/"
        },
        "id": "Qs50FilUhupd",
        "outputId": "78b60181-e2b9-4fa1-f07c-b07d4025e7c9"
      },
      "outputs": [
        {
          "name": "stdout",
          "output_type": "stream",
          "text": [
            "[0.00+0.45j 0.00+0.00j 0.00+0.00j 0.89+0.00j]\n"
          ]
        }
      ],
      "source": [
        "# Show vector.\n",
        "print(x1)"
      ]
    },
    {
      "cell_type": "code",
      "execution_count": 13,
      "metadata": {
        "colab": {
          "base_uri": "https://localhost:8080/"
        },
        "id": "yZQS2F5fXpQi",
        "outputId": "44ed3778-458b-4df8-f44d-8fdd6a99f24e"
      },
      "outputs": [
        {
          "name": "stdout",
          "output_type": "stream",
          "text": [
            "[0.00-0.45j 0.00-0.00j 0.00-0.00j 0.89-0.00j]\n"
          ]
        }
      ],
      "source": [
        "# Bra from ket.\n",
        "bra_x1 = x1.conjugate().transpose()\n",
        "\n",
        "# Show bra.\n",
        "print(bra_x1)"
      ]
    },
    {
      "cell_type": "code",
      "execution_count": 14,
      "metadata": {
        "colab": {
          "base_uri": "https://localhost:8080/"
        },
        "id": "h7Yj_GENe-Ig",
        "outputId": "293a48ca-4a44-45e6-9a81-ba061c10fe0d"
      },
      "outputs": [
        {
          "name": "stdout",
          "output_type": "stream",
          "text": [
            "1.00+0.00j\n"
          ]
        }
      ],
      "source": [
        "# Show it's normalized.\n",
        "norm_x1 = x1.conjugate().transpose() @ x1\n",
        "\n",
        "# Show normalisation - single values aren't formatted by numpy.\n",
        "print(f'{norm_x1:.2f}')"
      ]
    },
    {
      "cell_type": "code",
      "execution_count": 15,
      "metadata": {
        "id": "p-PizxymP10o"
      },
      "outputs": [],
      "source": [
        "# Another normalised element of C^4.\n",
        "x2 = np.array([\n",
        "    complex(2.0 / np.sqrt(5.0), 0.0               ),\n",
        "    complex(0.0,                0.0               ),\n",
        "    complex(0.0,                0.0               ),\n",
        "    complex(0.0,                1.0 / np.sqrt(5.0)),\n",
        "])"
      ]
    },
    {
      "cell_type": "code",
      "execution_count": 16,
      "metadata": {
        "colab": {
          "base_uri": "https://localhost:8080/"
        },
        "id": "wja2Q1Gadp3Z",
        "outputId": "1d6f9222-a193-4407-95e0-07387870be0b"
      },
      "outputs": [
        {
          "name": "stdout",
          "output_type": "stream",
          "text": [
            "[0.89+0.00j 0.00+0.00j 0.00+0.00j 0.00+0.45j]\n"
          ]
        }
      ],
      "source": [
        "# Show vector.\n",
        "print(x2)"
      ]
    },
    {
      "cell_type": "code",
      "execution_count": 17,
      "metadata": {
        "colab": {
          "base_uri": "https://localhost:8080/"
        },
        "id": "F4wscbnMcUZu",
        "outputId": "d00817b6-92ee-478d-adca-6b9ff5e138e2"
      },
      "outputs": [
        {
          "name": "stdout",
          "output_type": "stream",
          "text": [
            "1.00+0.00j\n"
          ]
        }
      ],
      "source": [
        "# Show it's normalized.\n",
        "norm_x2 = x2.conjugate().transpose() @ x2\n",
        "\n",
        "# Show normalisation.\n",
        "print(f\"{norm_x2:.2f}\")"
      ]
    },
    {
      "cell_type": "code",
      "execution_count": 18,
      "metadata": {
        "colab": {
          "base_uri": "https://localhost:8080/"
        },
        "id": "LAeCdhZMjjOa",
        "outputId": "1ba18644-7a93-4363-8be6-b3e680cbb9c6"
      },
      "outputs": [
        {
          "name": "stdout",
          "output_type": "stream",
          "text": [
            "[0.00+0.45j 0.00+0.00j 0.00+0.00j 0.89+0.00j]\n",
            "[0.89+0.00j 0.00+0.00j 0.00+0.00j 0.00+0.45j]\n"
          ]
        }
      ],
      "source": [
        "# Show |x1> and |x2> again.\n",
        "print(x1)\n",
        "print(x2)"
      ]
    },
    {
      "cell_type": "code",
      "execution_count": 19,
      "metadata": {
        "colab": {
          "base_uri": "https://localhost:8080/"
        },
        "id": "61ah8x1mj_bl",
        "outputId": "97ee2d51-3877-4cb2-f5e9-ef0cd9f6f754"
      },
      "outputs": [
        {
          "name": "stdout",
          "output_type": "stream",
          "text": [
            "[0.89-0.00j 0.00-0.00j 0.00-0.00j 0.00-0.45j]\n"
          ]
        }
      ],
      "source": [
        "# <x2| - note it's a 1D array so we can't transpose - it doesn't matter.\n",
        "print(x2.conjugate())"
      ]
    },
    {
      "cell_type": "code",
      "execution_count": 20,
      "metadata": {
        "id": "REjsEpLvcYmz"
      },
      "outputs": [
        {
          "name": "stdout",
          "output_type": "stream",
          "text": [
            "0.00-0.00j\n"
          ]
        }
      ],
      "source": [
        "# <x2|x1>\n",
        "x2x1 = x2.conjugate().transpose() @ x1\n",
        "\n",
        "# Show orthogonality.\n",
        "print(f\"{x2x1:.2f}\")"
      ]
    },
    {
      "cell_type": "markdown",
      "metadata": {},
      "source": [
        "## All Orthonormality\n",
        "\n",
        "***"
      ]
    },
    {
      "cell_type": "code",
      "execution_count": 21,
      "metadata": {},
      "outputs": [
        {
          "data": {
            "text/plain": [
              "array([[[0.00+0.00j, 0.00+0.00j, 0.00+0.00j, 0.00+0.00j],\n",
              "        [0.00+0.00j, 0.00+0.00j, 0.00+0.00j, 0.00+0.00j],\n",
              "        [0.00+0.00j, 0.00+0.00j, 0.00+0.00j, 0.00+0.00j],\n",
              "        [0.00+0.00j, 0.00+0.00j, 0.00+0.00j, 0.00+0.00j]],\n",
              "\n",
              "       [[0.00+0.00j, 0.00+0.00j, 0.00+0.00j, 0.00+0.00j],\n",
              "        [0.00+0.00j, 0.00+0.00j, 0.00+0.00j, 0.00+0.00j],\n",
              "        [0.00+0.00j, 0.00+0.00j, 0.00+0.00j, 0.00+0.00j],\n",
              "        [0.00+0.00j, 0.00+0.00j, 0.00+0.00j, 0.00+0.00j]],\n",
              "\n",
              "       [[0.00+0.00j, 0.00+0.00j, 0.00+0.00j, 0.00+0.00j],\n",
              "        [0.00+0.00j, 0.00+0.00j, 0.00+0.00j, 0.00+0.00j],\n",
              "        [0.00+0.00j, 0.00+0.00j, 0.00+0.00j, 0.00+0.00j],\n",
              "        [0.00+0.00j, 0.00+0.00j, 0.00+0.00j, 0.00+0.00j]],\n",
              "\n",
              "       [[0.00+0.00j, 0.00+0.00j, 0.00+0.00j, 0.00+0.00j],\n",
              "        [0.00+0.00j, 0.00+0.00j, 0.00+0.00j, 0.00+0.00j],\n",
              "        [0.00+0.00j, 0.00+0.00j, 0.00+0.00j, 0.00+0.00j],\n",
              "        [0.00+0.00j, 0.00+0.00j, 0.00+0.00j, 0.00+0.00j]]])"
            ]
          },
          "execution_count": 21,
          "metadata": {},
          "output_type": "execute_result"
        }
      ],
      "source": [
        "# Create all zeros.\n",
        "qls = np.zeros((4, 4, 4), dtype=complex)\n",
        "\n",
        "# Show.\n",
        "qls"
      ]
    },
    {
      "cell_type": "code",
      "execution_count": 22,
      "metadata": {},
      "outputs": [],
      "source": [
        "# Convenience.\n",
        "rsq2 = 1.0 / np.sqrt(2.0) # 1/√2\n",
        "rsq5 = 1.0 / np.sqrt(5.0) # 1/√5\n"
      ]
    },
    {
      "cell_type": "code",
      "execution_count": 23,
      "metadata": {},
      "outputs": [],
      "source": [
        "# Musto's example.\n",
        "qls[0,0] = [1.0, 0.0, 0.0, 0.0] # |0>\n",
        "qls[0,1] = [0.0, 1.0, 0.0, 0.0] # |1>\n",
        "qls[0,2] = [0.0, 0.0, 1.0, 0.0] # |2>\n",
        "qls[0,3] = [0.0, 0.0, 0.0, 1.0] # |3>\n",
        "\n",
        "qls[1,0] = [0.0, rsq2, -rsq2, 0.0] # 1/√2|1> + (-1/√2)|2>\n",
        "qls[1,1] = [complex(0.0, rsq5), 0.0, 0.0, 2.0 * rsq5] # (1/√5)i|0> + 2/√5|3>\n",
        "qls[1,2] = [2.0 * rsq5, 0.0, 0.0, complex(0.0, rsq5)] # 2/√5|0> + (1/√5)i|3>\n",
        "qls[1,3] = [0.0, rsq2, rsq2, 0.0] # 1/√2|1> + 1/√2|2>\n",
        "\n",
        "qls[2,0] = [0.0, rsq2, rsq2, 0.0] # 1/√2|1> + 1/√2|2>\n",
        "qls[2,1] = [2.0 * rsq5, 0.0, 0.0, complex(0.0, rsq5)] # 2/√5|0> + (1/√5)i|3>\n",
        "qls[2,2] = [complex(0.0, rsq5), 0.0, 0.0, 2.0 * rsq5] # (1/√5)i|0> + 2/√5|3>\n",
        "qls[2,3] = [0.0, rsq2, -rsq2, 0.0] # 1/√2|1> + (-1/√2)|2>\n",
        "\n",
        "qls[3,0] = [0.0, 0.0, 0.0, 1.0] # |3>\n",
        "qls[3,1] = [0.0, 0.0, 1.0, 0.0] # |2>\n",
        "qls[3,2] = [0.0, 1.0, 0.0, 0.0] # |1>\n",
        "qls[3,3] = [1.0, 0.0, 0.0, 0.0] # |0>"
      ]
    },
    {
      "cell_type": "code",
      "execution_count": 24,
      "metadata": {},
      "outputs": [
        {
          "name": "stdout",
          "output_type": "stream",
          "text": [
            "[[[1.00+0.00j 0.00+0.00j 0.00+0.00j 0.00+0.00j]\n",
            "  [0.00+0.00j 1.00+0.00j 0.00+0.00j 0.00+0.00j]\n",
            "  [0.00+0.00j 0.00+0.00j 1.00+0.00j 0.00+0.00j]\n",
            "  [0.00+0.00j 0.00+0.00j 0.00+0.00j 1.00+0.00j]]\n",
            "\n",
            " [[0.00+0.00j 0.71+0.00j -0.71+0.00j 0.00+0.00j]\n",
            "  [0.00+0.45j 0.00+0.00j 0.00+0.00j 0.89+0.00j]\n",
            "  [0.89+0.00j 0.00+0.00j 0.00+0.00j 0.00+0.45j]\n",
            "  [0.00+0.00j 0.71+0.00j 0.71+0.00j 0.00+0.00j]]\n",
            "\n",
            " [[0.00+0.00j 0.71+0.00j 0.71+0.00j 0.00+0.00j]\n",
            "  [0.89+0.00j 0.00+0.00j 0.00+0.00j 0.00+0.45j]\n",
            "  [0.00+0.45j 0.00+0.00j 0.00+0.00j 0.89+0.00j]\n",
            "  [0.00+0.00j 0.71+0.00j -0.71+0.00j 0.00+0.00j]]\n",
            "\n",
            " [[0.00+0.00j 0.00+0.00j 0.00+0.00j 1.00+0.00j]\n",
            "  [0.00+0.00j 0.00+0.00j 1.00+0.00j 0.00+0.00j]\n",
            "  [0.00+0.00j 1.00+0.00j 0.00+0.00j 0.00+0.00j]\n",
            "  [1.00+0.00j 0.00+0.00j 0.00+0.00j 0.00+0.00j]]]\n"
          ]
        }
      ],
      "source": [
        "# Show.\n",
        "print(qls)"
      ]
    },
    {
      "cell_type": "code",
      "execution_count": 25,
      "metadata": {},
      "outputs": [
        {
          "data": {
            "text/plain": [
              "array([[1.00+0.00j, 1.00+0.00j, 1.00+0.00j, 1.00+0.00j],\n",
              "       [1.00+0.00j, 1.00+0.00j, 1.00+0.00j, 1.00+0.00j],\n",
              "       [1.00+0.00j, 1.00+0.00j, 1.00+0.00j, 1.00+0.00j],\n",
              "       [1.00+0.00j, 1.00+0.00j, 1.00+0.00j, 1.00+0.00j]])"
            ]
          },
          "execution_count": 25,
          "metadata": {},
          "output_type": "execute_result"
        }
      ],
      "source": [
        "# Norm.\n",
        "np.apply_along_axis(lambda x: np.vdot(x, x), 2, qls)"
      ]
    },
    {
      "cell_type": "code",
      "execution_count": 26,
      "metadata": {},
      "outputs": [
        {
          "data": {
            "text/plain": [
              "array([[1.00+0.00j, 1.00+0.00j, 1.00+0.00j, 1.00+0.00j],\n",
              "       [1.00+0.00j, 1.00+0.00j, 1.00+0.00j, 1.00+0.00j],\n",
              "       [1.00+0.00j, 1.00+0.00j, 1.00+0.00j, 1.00+0.00j],\n",
              "       [1.00+0.00j, 1.00+0.00j, 1.00+0.00j, 1.00+0.00j]])"
            ]
          },
          "execution_count": 26,
          "metadata": {},
          "output_type": "execute_result"
        }
      ],
      "source": [
        "# Norm again.\n",
        "np.sum(np.conjugate(qls) * qls, axis=2)"
      ]
    },
    {
      "cell_type": "code",
      "execution_count": 27,
      "metadata": {},
      "outputs": [
        {
          "data": {
            "text/plain": [
              "array([[1.00+0.00j, 0.00+0.00j, 0.00+0.00j, 0.00+0.00j],\n",
              "       [0.00+0.00j, 1.00+0.00j, 0.00+0.00j, 0.00+0.00j],\n",
              "       [0.00+0.00j, 0.00+0.00j, 1.00+0.00j, 0.00+0.00j],\n",
              "       [0.00+0.00j, 0.00+0.00j, 0.00+0.00j, 1.00+0.00j]])"
            ]
          },
          "execution_count": 27,
          "metadata": {},
          "output_type": "execute_result"
        }
      ],
      "source": [
        "# First row.\n",
        "qls[0]"
      ]
    },
    {
      "cell_type": "code",
      "execution_count": 28,
      "metadata": {},
      "outputs": [
        {
          "name": "stdout",
          "output_type": "stream",
          "text": [
            "\n",
            "[1.00+0.00j 0.00+0.00j 0.00+0.00j 0.00+0.00j]\n",
            "[0.00+0.00j 1.00+0.00j 0.00+0.00j 0.00+0.00j]\n",
            "[0.00+0.00j 0.00+0.00j 1.00+0.00j 0.00+0.00j]\n",
            "[0.00+0.00j 0.00+0.00j 0.00+0.00j 1.00+0.00j]\n",
            "\n",
            "[1.00+0.00j 0.00+0.00j 0.00+0.00j 0.00+0.00j]\n",
            "[0.00+0.00j 1.00+0.00j 0.00+0.00j 0.00+0.00j]\n",
            "[0.00+0.00j 0.00+0.00j 1.00+0.00j 0.00+0.00j]\n",
            "[0.00+0.00j 0.00+0.00j 0.00+0.00j 1.00+0.00j]\n",
            "\n",
            "[1.00+0.00j 0.00+0.00j 0.00+0.00j 0.00+0.00j]\n",
            "[0.00+0.00j 1.00+0.00j 0.00+0.00j 0.00+0.00j]\n",
            "[0.00+0.00j 0.00+0.00j 1.00+0.00j 0.00+0.00j]\n",
            "[0.00+0.00j 0.00+0.00j 0.00+0.00j 1.00+0.00j]\n",
            "\n",
            "[1.00+0.00j 0.00+0.00j 0.00+0.00j 0.00+0.00j]\n",
            "[0.00+0.00j 1.00+0.00j 0.00+0.00j 0.00+0.00j]\n",
            "[0.00+0.00j 0.00+0.00j 1.00+0.00j 0.00+0.00j]\n",
            "[0.00+0.00j 0.00+0.00j 0.00+0.00j 1.00+0.00j]\n"
          ]
        }
      ],
      "source": [
        "# Orthonorm columns.\n",
        "\n",
        "# Loop through rows.\n",
        "for i in range(qls.shape[0]):\n",
        "  # Blank line to separate rows.\n",
        "  print()\n",
        "  # Loop through columns.\n",
        "  for j in range(qls.shape[1]):\n",
        "    # Entries in row i.\n",
        "    ri = qls[i]\n",
        "    # Entry in row i, column j, conjugate\n",
        "    ricj = np.conjugate(qls[i, j])\n",
        "    # Inner product of entry in row i, column j and each element of row i.\n",
        "    print(np.sum(ricj * ri, axis=1))"
      ]
    },
    {
      "cell_type": "code",
      "execution_count": 29,
      "metadata": {},
      "outputs": [
        {
          "data": {
            "text/plain": [
              "array([[1.00+0.00j, 0.00+0.00j, 0.00+0.00j, 0.00+0.00j],\n",
              "       [0.00+0.00j, 0.71+0.00j, -0.71+0.00j, 0.00+0.00j],\n",
              "       [0.00+0.00j, 0.71+0.00j, 0.71+0.00j, 0.00+0.00j],\n",
              "       [0.00+0.00j, 0.00+0.00j, 0.00+0.00j, 1.00+0.00j]])"
            ]
          },
          "execution_count": 29,
          "metadata": {},
          "output_type": "execute_result"
        }
      ],
      "source": [
        "# First column.\n",
        "qls[:,0]"
      ]
    },
    {
      "cell_type": "code",
      "execution_count": 30,
      "metadata": {},
      "outputs": [
        {
          "name": "stdout",
          "output_type": "stream",
          "text": [
            "\n",
            "[1.00+0.00j 0.00+0.00j 0.00+0.00j 0.00+0.00j]\n",
            "[0.00+0.00j 1.00+0.00j 0.00+0.00j 0.00+0.00j]\n",
            "[0.00+0.00j 0.00+0.00j 1.00+0.00j 0.00+0.00j]\n",
            "[0.00+0.00j 0.00+0.00j 0.00+0.00j 1.00+0.00j]\n",
            "\n",
            "[1.00+0.00j 0.00+0.00j 0.00+0.00j 0.00+0.00j]\n",
            "[0.00+0.00j 1.00+0.00j 0.00+0.00j 0.00+0.00j]\n",
            "[0.00+0.00j 0.00+0.00j 1.00+0.00j 0.00+0.00j]\n",
            "[0.00+0.00j 0.00+0.00j 0.00+0.00j 1.00+0.00j]\n",
            "\n",
            "[1.00+0.00j 0.00+0.00j 0.00+0.00j 0.00+0.00j]\n",
            "[0.00+0.00j 1.00+0.00j 0.00+0.00j 0.00+0.00j]\n",
            "[0.00+0.00j 0.00+0.00j 1.00+0.00j 0.00+0.00j]\n",
            "[0.00+0.00j 0.00+0.00j 0.00+0.00j 1.00+0.00j]\n",
            "\n",
            "[1.00+0.00j 0.00+0.00j 0.00+0.00j 0.00+0.00j]\n",
            "[0.00+0.00j 1.00+0.00j 0.00+0.00j 0.00+0.00j]\n",
            "[0.00+0.00j 0.00+0.00j 1.00+0.00j 0.00+0.00j]\n",
            "[0.00+0.00j 0.00+0.00j 0.00+0.00j 1.00+0.00j]\n"
          ]
        }
      ],
      "source": [
        "# Orthonorm rows.\n",
        "\n",
        "# Loop through columns.\n",
        "for j in range(qls.shape[1]):\n",
        "  # Blank line to separate cols.\n",
        "  print()\n",
        "  # Loop through rows.\n",
        "  for i in range(qls.shape[0]):\n",
        "    # Entries in col j.\n",
        "    cj = qls[:, j]\n",
        "    # Entry in row i, column j, conjugate\n",
        "    ricj = np.conjugate(qls[i, j])\n",
        "    # Inner product of entry in row i, column j and each element of column i.\n",
        "    print(np.sum(ricj * cj, axis=1))"
      ]
    },
    {
      "cell_type": "markdown",
      "metadata": {},
      "source": [
        "## Discrete Fourier Transform\n",
        "\n",
        "***"
      ]
    },
    {
      "cell_type": "markdown",
      "metadata": {},
      "source": [
        "$x = \\{x_n\\} := (x_0, x_1, \\ldots, x_{n-1})$\n",
        "\n",
        "$\\textbf{DFT}(x) = X = \\{X_k\\} := (X_0, X_1, \\ldots, X_{n-1})$\n",
        "\n",
        "$X_k = \\sum_{n=0}^{N-1} x_n e^{-i2\\pi\\frac{k}{N}n}$"
      ]
    },
    {
      "cell_type": "markdown",
      "metadata": {},
      "source": [
        "$r_k = (e^{-i2\\pi\\frac{k}{N}n} \\textrm{ for } n \\textrm{ in } [N] )$"
      ]
    },
    {
      "cell_type": "markdown",
      "metadata": {},
      "source": [
        "$r_k = e^{\\frac{2ik\\pi}{N}}(e^n \\textrm{ for } n \\textrm{ in } [N] )$"
      ]
    },
    {
      "cell_type": "markdown",
      "metadata": {},
      "source": [
        "$X_k = r_k \\cdot x$"
      ]
    },
    {
      "cell_type": "markdown",
      "metadata": {},
      "source": [
        "$ M = [\\frac{kn}{N}]_{kn} $"
      ]
    },
    {
      "cell_type": "code",
      "execution_count": 31,
      "metadata": {},
      "outputs": [
        {
          "name": "stdout",
          "output_type": "stream",
          "text": [
            "[[0.00 0.00 0.00 0.00 0.00 0.00 0.00 0.00 0.00 0.00 0.00 0.00]\n",
            " [0.00 0.08 0.17 0.25 0.33 0.42 0.50 0.58 0.67 0.75 0.83 0.92]\n",
            " [0.00 0.17 0.33 0.50 0.67 0.83 0.00 0.17 0.33 0.50 0.67 0.83]\n",
            " [0.00 0.25 0.50 0.75 0.00 0.25 0.50 0.75 0.00 0.25 0.50 0.75]\n",
            " [0.00 0.33 0.67 0.00 0.33 0.67 0.00 0.33 0.67 0.00 0.33 0.67]\n",
            " [0.00 0.42 0.83 0.25 0.67 0.08 0.50 0.92 0.33 0.75 0.17 0.58]\n",
            " [0.00 0.50 0.00 0.50 0.00 0.50 0.00 0.50 0.00 0.50 0.00 0.50]\n",
            " [0.00 0.58 0.17 0.75 0.33 0.92 0.50 0.08 0.67 0.25 0.83 0.42]\n",
            " [0.00 0.67 0.33 0.00 0.67 0.33 0.00 0.67 0.33 0.00 0.67 0.33]\n",
            " [0.00 0.75 0.50 0.25 0.00 0.75 0.50 0.25 0.00 0.75 0.50 0.25]\n",
            " [0.00 0.83 0.67 0.50 0.33 0.17 0.00 0.83 0.67 0.50 0.33 0.17]\n",
            " [0.00 0.92 0.83 0.75 0.67 0.58 0.50 0.42 0.33 0.25 0.17 0.08]]\n"
          ]
        }
      ],
      "source": [
        "N = 12\n",
        "M = np.array([[((k * n) / N) % 1 for n in range(N)] for k in range(N)])\n",
        "print(M)"
      ]
    },
    {
      "cell_type": "code",
      "execution_count": 32,
      "metadata": {},
      "outputs": [],
      "source": [
        "d = np.array([1,1,0,1,1,1,1,0,1,0,0,0], int)"
      ]
    },
    {
      "cell_type": "code",
      "execution_count": 33,
      "metadata": {},
      "outputs": [
        {
          "data": {
            "text/plain": [
              "(12,)"
            ]
          },
          "execution_count": 33,
          "metadata": {},
          "output_type": "execute_result"
        }
      ],
      "source": [
        "d.shape"
      ]
    },
    {
      "cell_type": "code",
      "execution_count": null,
      "metadata": {},
      "outputs": [],
      "source": []
    },
    {
      "cell_type": "markdown",
      "metadata": {
        "id": "ADOYjZ1DPcD7"
      },
      "source": [
        "***\n",
        "\n",
        "### End"
      ]
    }
  ],
  "metadata": {
    "colab": {
      "include_colab_link": true,
      "provenance": []
    },
    "kernelspec": {
      "display_name": "Python 3",
      "name": "python3"
    },
    "language_info": {
      "codemirror_mode": {
        "name": "ipython",
        "version": 3
      },
      "file_extension": ".py",
      "mimetype": "text/x-python",
      "name": "python",
      "nbconvert_exporter": "python",
      "pygments_lexer": "ipython3",
      "version": "3.11.4"
    }
  },
  "nbformat": 4,
  "nbformat_minor": 0
}
